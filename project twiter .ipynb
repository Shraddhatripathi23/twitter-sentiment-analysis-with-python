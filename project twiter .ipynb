{
 "cells": [
  {
   "cell_type": "code",
   "execution_count": 1,
   "metadata": {},
   "outputs": [],
   "source": [
    "import tweepy\n",
    "from textblob import TextBlob\n",
    "import matplotlib.pyplot as pd\n",
    "def percentage(part,whole):\n",
    "    return 100*float(part)/float(whole)"
   ]
  },
  {
   "cell_type": "code",
   "execution_count": 13,
   "metadata": {},
   "outputs": [],
   "source": [
    "consumer_key = 'ATfKfmlU88EffYQzIF8SQhiYX'\n",
    "consumer_secret = 'dy8ao96WUqEFjEGi7dnIEiAT2Vq6EDDkXPOv0k50DcSr9dnwsz'\n",
    "access_token = '180739880-ncdWLjX4vDYfaCh1Foj2dltv6TNOPa31Nxb4zvXy'\n",
    "access_token_secret = '3vevh5nD8Z6IXlHn2XcrD7pnxtMVTZRbwu49rPLVRNW1n'"
   ]
  },
  {
   "cell_type": "code",
   "execution_count": 2,
   "metadata": {},
   "outputs": [],
   "source": [
    "#consumer_key='aklgcFQaqCgYY1pWtzUixNCIV'\n",
    "#consumer_secret='tt5NSjnTrJtbVp0KQ88gvLFGZkQxufc721NrJFkbzytDd9pjcY'\n",
    "#access_token='866913642251341824-0r8tdvfwlCBnZhRgQcNTypfIhz536N4'\n",
    "#access_token_secret='1122Ji27mZVbjb0lVGBuDDUiMKl7rEHuQqTVCriUrjPJo'"
   ]
  },
  {
   "cell_type": "code",
   "execution_count": 14,
   "metadata": {},
   "outputs": [],
   "source": [
    "auth=tweepy.OAuthHandler(consumer_key,consumer_secret) #authntication purposes\n",
    "auth.set_access_token(access_token,access_token_secret)"
   ]
  },
  {
   "cell_type": "code",
   "execution_count": 15,
   "metadata": {},
   "outputs": [],
   "source": [
    "api=tweepy.API(auth)"
   ]
  },
  {
   "cell_type": "code",
   "execution_count": 19,
   "metadata": {},
   "outputs": [
    {
     "name": "stdout",
     "output_type": "stream",
     "text": [
      "enter the tag to be searched#modi\n",
      "enter the no if tweets to be searched.26\n"
     ]
    }
   ],
   "source": [
    "searchTerm=input(\"enter the tag to be searched\")\n",
    "NoOfTerms=int(input(\"enter the no if tweets to be searched.\"))\n",
    "tweets=tweepy.Cursor(api.search,q=searchTerm).items(NoOfTerms)\n",
    "positive=0\n",
    "negative=0\n",
    "neutral=0\n",
    "polarity=0"
   ]
  },
  {
   "cell_type": "code",
   "execution_count": 20,
   "metadata": {},
   "outputs": [
    {
     "name": "stdout",
     "output_type": "stream",
     "text": [
      "RT @godfatheriv: #Modi was Sir Syed Ahmed Khan in his past life. This is the best thing you will see today. Indian media please NEVER chang…\n",
      "RT @godfatheriv: #Modi was Sir Syed Ahmed Khan in his past life. This is the best thing you will see today. Indian media please NEVER chang…\n",
      "RT @OmMathur_bjp: पीएम श्री@narendramodi जी को ब्रिटिश हेराल्ड के विश्व प्रतिष्ठित पोल में 31% मतों के साथ दुनिया का सबसे ताक़तवर व्यक्ति…\n",
      "RT @godfatheriv: #Modi was Sir Syed Ahmed Khan in his past life. This is the best thing you will see today. Indian media please NEVER chang…\n",
      "RT @AnkitNDT: How Canadian SkyPower Global combat challenges to contribute to Modi’s foreign Investment Initiative\n",
      "\n",
      "By Ankit Srivastava @An…\n",
      "गरीबों को दुर्घटना बीमा से आर्थिक संबल दे रही भाजपा सरकार।\n",
      "#ModiSarkar2 #NewIndia #Modi\n",
      ".@BJP4India .@bjp4bihar .… https://t.co/p0OZnCb0A0\n",
      "Mr @ShashiTharoor we have seen Mr Nehru ji doing yoga with british girls on swimming pool n parties....… https://t.co/pE5EvpNntF\n",
      "RT @drshamamohd: The #Modi govt refuses to elevate Justice Kureshi, who once sent @AmitShah to custody.\n",
      "\n",
      "The vindictiveness of Modi-Shah is…\n",
      "RT @Kasheer_suneel: The triple Talaq and minority scholarship is for betterment of our country and for betterment of Hindus. It’s directly…\n",
      "RT @SAsiaSolidarity: 'Every time #Modi claims he has the whole diaspora behind his murderous Hindutva project, we will be here to prove tha…\n",
      "RT @Kasheer_suneel: The triple Talaq and minority scholarship is for betterment of our country and for betterment of Hindus. It’s directly…\n",
      "#Stopconversion #Modi #ModiSarkar2 #LokSabha #Hindus #TripleTalaqBill\n",
      "@tehseenp @PMOIndia What @tehseenp something missing there? Muslim men commit crime and @PMOIndia gives gov jobs to… https://t.co/U8f7Umkum5\n",
      "RT @godfatheriv: #Modi was Sir Syed Ahmed Khan in his past life. This is the best thing you will see today. Indian media please NEVER chang…\n",
      "RT @godfatheriv: #Modi was Sir Syed Ahmed Khan in his past life. This is the best thing you will see today. Indian media please NEVER chang…\n",
      "RT @VinodTawde_Maha: जनतेसाठी अविरत काम करणाऱ्या आमच्या पक्षावर आरोप करणाऱ्या भ्रष्टाचारी राष्ट्रवादी आणि काँग्रेसला जनताच बघून घेईल.. \n",
      "\n",
      "@T…\n",
      "#Modi\n",
      "PM Narendra Modi voted 'world's most powerful leader 2019' in UK magazine poll https://t.co/1XsRemLrqb\n",
      "RT @SurgicalWay: #CBI ने #NDTV के प्रनॉय रॉय और राधिका रॉय के खिलाफ जारी किया लुक-आफ्टर नोटिस, देश से भागने की कोशिश कर सकते हैं दोनों!\n",
      "\n",
      "अब…\n",
      "RT @godfatheriv: #Modi was Sir Syed Ahmed Khan in his past life. This is the best thing you will see today. Indian media please NEVER chang…\n",
      "RT @godfatheriv: #Modi was Sir Syed Ahmed Khan in his past life. This is the best thing you will see today. Indian media please NEVER chang…\n",
      "PM #Modi greets winners of #Yoga 2019 award, tweets congratulation in 6 languages \n",
      "https://t.co/jWLUGdvOs9\n",
      "RT @OmMathur_bjp: पीएम श्री@narendramodi जी को ब्रिटिश हेराल्ड के विश्व प्रतिष्ठित पोल में 31% मतों के साथ दुनिया का सबसे ताक़तवर व्यक्ति…\n",
      "RT @SurgicalWay: #CBI ने #NDTV के प्रनॉय रॉय और राधिका रॉय के खिलाफ जारी किया लुक-आफ्टर नोटिस, देश से भागने की कोशिश कर सकते हैं दोनों!\n",
      "\n",
      "अब…\n",
      "RT @OmMathur_bjp: पीएम श्री@narendramodi जी को ब्रिटिश हेराल्ड के विश्व प्रतिष्ठित पोल में 31% मतों के साथ दुनिया का सबसे ताक़तवर व्यक्ति…\n",
      "RT @godfatheriv: #Modi was Sir Syed Ahmed Khan in his past life. This is the best thing you will see today. Indian media please NEVER chang…\n",
      "RT @FollowTeamISR: Meet #TeamIsrael 💙🇮🇱💙 #cyclist 🚴🏻‍♀️  Rotem Gafinovitz (27) from #Modi'in. Rotem will be competing at the 2nd European…\n"
     ]
    }
   ],
   "source": [
    "#fetching tweets\n",
    "for tweet in tweets:\n",
    "    print(tweet.text)\n",
    "    analysis =TextBlob(tweet.text)\n",
    "    polarity+=analysis.sentiment.polarity\n",
    "    if(analysis.sentiment.polarity==0):\n",
    "        neutral +=1\n",
    "    elif(analysis.sentiment.polarity<0.00):\n",
    "        negative +=1\n",
    "    elif(analysis.sentiment.polarity>0.00):\n",
    "        positive +=1"
   ]
  },
  {
   "cell_type": "code",
   "execution_count": 21,
   "metadata": {},
   "outputs": [],
   "source": [
    "#cal %age of each sentiment\n",
    "positive=percentage(positive,NoOfTerms)\n",
    "negative=percentage(negative,NoOfTerms)\n",
    "neutral=percentage(neutral,NoOfTerms)\n",
    "\n"
   ]
  },
  {
   "cell_type": "code",
   "execution_count": 31,
   "metadata": {},
   "outputs": [
    {
     "data": {
      "image/png": "[encoded data removed]",
      "text/plain": [
       "<Figure size 432x288 with 1 Axes>"
      ]
     },
     "metadata": {},
     "output_type": "display_data"
    }
   ],
   "source": [
    "#plotting pie chart\n",
    "labels=['positive['+str(positive)+'%]','negative['+str(negative)+'%]','neutral ['+str(neutral)+'%]']\n",
    "sizes=[positive,negative,neutral]\n",
    "colors=['green','red','pink']\n",
    "patches,text=pd.pie(sizes,colors=colors,startangle=90)\n",
    "pd.legend(patches,labels,loc='best')\n",
    "pd.title(\"how people are reactingon \"+searchTerm+\" by analysis \"+str(NoOfTerms))\n",
    "pd.axis('equal')\n",
    "pd.tight_layout()\n",
    "pd.show()"
   ]
  },
  {
   "cell_type": "code",
   "execution_count": null,
   "metadata": {},
   "outputs": [],
   "source": []
  },
  {
   "cell_type": "code",
   "execution_count": null,
   "metadata": {},
   "outputs": [],
   "source": []
  }
 ],
 "metadata": {
  "kernelspec": {
   "display_name": "Python 3",
   "language": "python",
   "name": "python3"
  },
  "language_info": {
   "codemirror_mode": {
    "name": "ipython",
    "version": 3
   },
   "file_extension": ".py",
   "mimetype": "text/x-python",
   "name": "python",
   "nbconvert_exporter": "python",
   "pygments_lexer": "ipython3",
   "version": "3.7.3"
  }
 },
 "nbformat": 4,
 "nbformat_minor": 2
}
